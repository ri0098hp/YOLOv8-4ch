{
 "cells": [
  {
   "cell_type": "code",
   "execution_count": null,
   "metadata": {},
   "outputs": [],
   "source": [
    "import os\n",
    "from ultralytics import YOLO\n",
    "\n",
    "# change directory\n",
    "ROOT = \"/home/suwako/workspace/\"\n",
    "os.chdir(ROOT)\n",
    "\n",
    "# dataset\n",
    "ds = \"data/kaist-sanit.yaml\"\n",
    "\n",
    "model = YOLO(\"runs/transfer/kaist-trans-4ch/weights/best.pt\")  # load a pretrained model (recommended for training)\n",
    "\n",
    "ch = 4  # number of channels\n",
    "nc = 1  # number of classes\n",
    "os.getcwd()\n"
   ]
  },
  {
   "cell_type": "code",
   "execution_count": null,
   "metadata": {},
   "outputs": [],
   "source": [
    "# freez all layers\n",
    "for param in model.model.model.parameters():\n",
    "    param.requires_grad = False\n",
    "\n",
    "# select input and output layer\n",
    "layers = list(model.model.model.children())\n",
    "input_layer = layers[0]\n",
    "output_layer = layers[-1]\n",
    "\n",
    "# setup input and output channels\n",
    "if input_layer.conv.in_channels != ch:\n",
    "    print(f\"change input channels {input_layer.conv.in_channels} → {ch}\")\n",
    "    input_layer.conv.in_channels = ch\n",
    "\n",
    "    for param in input_layer.parameters():\n",
    "        param.requires_grad = True\n",
    "\n",
    "\n",
    "# setup output channels\n",
    "for l in output_layer.cv3:\n",
    "    l[2].out_channels = nc\n",
    "\n",
    "for param in output_layer.parameters():\n",
    "    param.requires_grad = True\n"
   ]
  },
  {
   "cell_type": "code",
   "execution_count": null,
   "metadata": {},
   "outputs": [],
   "source": [
    "# transfer learning\n",
    "model.train(\n",
    "    data=ds,\n",
    "    epochs=30,\n",
    "    project=\"runs/transfer\",\n",
    "    name=f\"kaist-trans-{ch}ch\",\n",
    ")  # train the model\n"
   ]
  }
 ],
 "metadata": {
  "kernelspec": {
   "display_name": "Python 3",
   "language": "python",
   "name": "python3"
  },
  "language_info": {
   "codemirror_mode": {
    "name": "ipython",
    "version": 3
   },
   "file_extension": ".py",
   "mimetype": "text/x-python",
   "name": "python",
   "nbconvert_exporter": "python",
   "pygments_lexer": "ipython3",
   "version": "3.10.6"
  },
  "orig_nbformat": 4
 },
 "nbformat": 4,
 "nbformat_minor": 2
}
