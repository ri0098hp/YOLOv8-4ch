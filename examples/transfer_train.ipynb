{
 "cells": [
  {
   "cell_type": "code",
   "execution_count": null,
   "metadata": {},
   "outputs": [],
   "source": [
    "import os\n",
    "from ultralytics import YOLO\n",
    "\n",
    "# change directory\n",
    "ROOT = \"/home/suwako/workspace/\"\n",
    "os.chdir(ROOT)\n",
    "os.getcwd()\n",
    "\n",
    "# dataset\n",
    "ds = \"data/kaist-sanit.yaml\"\n",
    "\n",
    "ch = 4  # number of channels\n",
    "nc = 1  # number of classes\n"
   ]
  },
  {
   "cell_type": "markdown",
   "metadata": {},
   "source": [
    "## 1. full scratch train"
   ]
  },
  {
   "cell_type": "code",
   "execution_count": null,
   "metadata": {},
   "outputs": [],
   "source": [
    "scratch_model = YOLO(\"yolov8s.yaml\")\n",
    "\n",
    "scratch_model.train(\n",
    "    data=ds,\n",
    "    epochs=30,\n",
    "    project=\"runs/transfer\",\n",
    "    name=f\"kaist-scratch-{ch}ch\",\n",
    ")  # train the model\n",
    "\n",
    "del scratch_model\n"
   ]
  },
  {
   "cell_type": "markdown",
   "metadata": {},
   "source": [
    "## 2. freezed transfer train"
   ]
  },
  {
   "cell_type": "code",
   "execution_count": null,
   "metadata": {},
   "outputs": [],
   "source": [
    "def freez_layer(trainer):\n",
    "    model = trainer.model.model\n",
    "    for k, v in model.named_parameters():\n",
    "        v.requires_grad = False\n",
    "\n",
    "    # select input and output layer\n",
    "    layers = list(model.children())\n",
    "    input_layer = layers[0]\n",
    "    output_layer = layers[-1]\n",
    "\n",
    "    freezed = []\n",
    "\n",
    "    # setup input and output channels\n",
    "    if input_layer.conv.in_channels != ch:\n",
    "        print(f\"change input channels {input_layer.conv.in_channels} → {ch}\")\n",
    "        input_layer.conv.in_channels = ch\n",
    "\n",
    "        for k, v in input_layer.named_parameters():\n",
    "            freezed.append(k)\n",
    "            v.requires_grad = True\n",
    "\n",
    "    # setup output channels\n",
    "    for l in output_layer.cv3:\n",
    "        l[2].out_channels = nc\n",
    "\n",
    "    for k, v in output_layer.named_parameters():\n",
    "        freezed.append(k)\n",
    "        v.requires_grad = True\n",
    "\n",
    "    # print(*freezed)\n"
   ]
  },
  {
   "cell_type": "code",
   "execution_count": null,
   "metadata": {},
   "outputs": [],
   "source": [
    "# transfer learning\n",
    "\n",
    "# load pretrained model\n",
    "freez_model = YOLO(\"yolov8s.pt\")\n",
    "\n",
    "# add callback for freezing\n",
    "freez_model.add_callback(\"on_train_start\", freez_layer)\n",
    "\n",
    "# train\n",
    "freez_model.train(\n",
    "    data=ds,\n",
    "    epochs=50,\n",
    "    close_mosaic=0,\n",
    "    project=\"runs/transfer\",\n",
    "    name=f\"kaist-freez-{ch}ch\",\n",
    ")\n"
   ]
  },
  {
   "cell_type": "code",
   "execution_count": null,
   "metadata": {},
   "outputs": [],
   "source": [
    "# fine-tune\n",
    "try:\n",
    "    tgr = freez_model.metrics.save_dir / \"weights/best.pt\"\n",
    "except:\n",
    "    tgr = \"runs/transfer/kaist-freez-4ch/weights/best.pt\"\n",
    "\n",
    "del freez_model\n",
    "\n",
    "tune_model = YOLO(tgr)\n",
    "\n",
    "tune_model.train(\n",
    "    data=ds,\n",
    "    epochs=15,\n",
    "    close_mosaic=5,\n",
    "    project=\"runs/transfer\",\n",
    "    name=f\"kaist-finetune-{ch}ch\",\n",
    ")\n",
    "\n",
    "del tune_model\n"
   ]
  },
  {
   "cell_type": "markdown",
   "metadata": {},
   "source": [
    "# 3. full transfer train (w/o freez)"
   ]
  },
  {
   "cell_type": "code",
   "execution_count": null,
   "metadata": {},
   "outputs": [],
   "source": [
    "# transfer learning\n",
    "\n",
    "# load pretrained model\n",
    "trans_model = YOLO(\"yolov8s.pt\")\n",
    "\n",
    "trans_model.train(\n",
    "    data=ds,\n",
    "    epochs=30,\n",
    "    project=\"runs/transfer\",\n",
    "    name=f\"kaist-trans-{ch}ch\",\n",
    ")  # train the model\n"
   ]
  },
  {
   "cell_type": "markdown",
   "metadata": {},
   "source": [
    "## 4. Results"
   ]
  },
  {
   "cell_type": "code",
   "execution_count": null,
   "metadata": {},
   "outputs": [],
   "source": [
    "# yolo cfg=cfg/yolov8-aug.yaml model=yolov8s.pt data=data/All-Season.yaml name=All-Season-pre100"
   ]
  }
 ],
 "metadata": {
  "kernelspec": {
   "display_name": "Python 3",
   "language": "python",
   "name": "python3"
  },
  "language_info": {
   "codemirror_mode": {
    "name": "ipython",
    "version": 3
   },
   "file_extension": ".py",
   "mimetype": "text/x-python",
   "name": "python",
   "nbconvert_exporter": "python",
   "pygments_lexer": "ipython3",
   "version": "3.10.6"
  },
  "orig_nbformat": 4
 },
 "nbformat": 4,
 "nbformat_minor": 2
}
